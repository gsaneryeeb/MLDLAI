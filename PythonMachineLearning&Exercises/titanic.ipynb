{
 "cells": [
  {
   "cell_type": "code",
   "execution_count": 9,
   "metadata": {
    "collapsed": false
   },
   "outputs": [
    {
     "name": "stdout",
     "output_type": "stream",
     "text": [
      "<class 'pandas.core.frame.DataFrame'>\n",
      "RangeIndex: 1313 entries, 0 to 1312\n",
      "Data columns (total 11 columns):\n",
      "row.names    1313 non-null int64\n",
      "pclass       1313 non-null object\n",
      "survived     1313 non-null int64\n",
      "name         1313 non-null object\n",
      "age          633 non-null float64\n",
      "embarked     821 non-null object\n",
      "home.dest    754 non-null object\n",
      "room         77 non-null object\n",
      "ticket       69 non-null object\n",
      "boat         347 non-null object\n",
      "sex          1313 non-null object\n",
      "dtypes: float64(1), int64(2), object(8)\n",
      "memory usage: 112.9+ KB\n",
      "<class 'pandas.core.frame.DataFrame'>\n",
      "RangeIndex: 1313 entries, 0 to 1312\n",
      "Data columns (total 3 columns):\n",
      "pclass    1313 non-null object\n",
      "age       633 non-null float64\n",
      "sex       1313 non-null object\n",
      "dtypes: float64(1), object(2)\n",
      "memory usage: 30.8+ KB\n",
      "<class 'pandas.core.frame.DataFrame'>\n",
      "RangeIndex: 1313 entries, 0 to 1312\n",
      "Data columns (total 3 columns):\n",
      "pclass    1313 non-null object\n",
      "age       1313 non-null float64\n",
      "sex       1313 non-null object\n",
      "dtypes: float64(1), object(2)\n",
      "memory usage: 30.8+ KB\n",
      "['age', 'pclass=1st', 'pclass=2nd', 'pclass=3rd', 'sex=female', 'sex=male']\n"
     ]
    }
   ],
   "source": [
    "# 导入 pandas 用于数据分析。\n",
    "import pandas as pd\n",
    "# 利用 pandas 的 read_csv 模块直接从互联网收集泰坦尼克号乘客数据。\n",
    "titanic=pd.read_csv('http://biostat.mc.vanderbilt.edu/wiki/pub/Main/DataSets/titanic.txt')\n",
    "# 观察前几行数据，可以发现，数据种类各异，数值型，类别型，甚至还有缺失数据。\n",
    "titanic.head()\n",
    "\n",
    "# 使用 pandas，数据都转入 pandas 独有的 dataframe 格式（二维数据表格），直接使用 info()，查看数据的统计特性。\n",
    "titanic.info()\n",
    "\n",
    "# 机器学习有一个不太被初学者重视并且耗时，但是十分重要的一环--特征的选择，这个重要基于一些背景知识。根据我们对这场事故的了解，sex,age,\n",
    "# pclass 这些特征都很有可能是决定幸免与否的关键因素。\n",
    "X=titanic[['pclass','age','sex']]\n",
    "y=titanic['survived']\n",
    "\n",
    "# 对当前选择的特征进行探查。\n",
    "X.info()\n",
    "\n",
    "# 借由上面的输出，我们设计如下几个数据处理的任务：\n",
    "# 1）age 这个数据列，只有 633 个，需要补完。\n",
    "# 2）sex 与 pclass 两个数据列的值都是类别型的，需要转化为数值特征，用 0/1 代替。\n",
    "\n",
    "# 首先我们补充 age 里的数据，使用平均数或者中位数都是对模型偏离造成最小影响的策略。\n",
    "X['age'].fillna(X['age'].mean(), inplace=True)\n",
    "\n",
    "# 对补完的数据重新探查。\n",
    "X.info()\n",
    "\n",
    "# 由此得知，age 特征得到了补完。\n",
    "\n",
    "# 数据分割。\n",
    "from sklearn.cross_validation import train_test_split\n",
    "X_train, X_test, y_train, y_test=train_test_split(X, y, test_size=0.25, random_state=33)\n",
    "\n",
    "# 使用 scikit-learn.feature_extraction 中的特征转换器，详见 3.1.1.1 特征抽取。\n",
    "from sklearn.feature_extraction import DictVectorizer\n",
    "vec=DictVectorizer(sparse=False)\n",
    "\n",
    "# 转换特征后，我们发现凡是类别型的特征都单独剥离出来，独成一列特征，数值型的则保持不变。\n",
    "X_train=vec.fit_transform(X_train.to_dict(orient='record'))\n",
    "print vec.feature_names_"
   ]
  },
  {
   "cell_type": "code",
   "execution_count": null,
   "metadata": {
    "collapsed": true
   },
   "outputs": [],
   "source": []
  }
 ],
 "metadata": {
  "kernelspec": {
   "display_name": "Python 2",
   "language": "python",
   "name": "python2"
  },
  "language_info": {
   "codemirror_mode": {
    "name": "ipython",
    "version": 2
   },
   "file_extension": ".py",
   "mimetype": "text/x-python",
   "name": "python",
   "nbconvert_exporter": "python",
   "pygments_lexer": "ipython2",
   "version": "2.7.13"
  }
 },
 "nbformat": 4,
 "nbformat_minor": 2
}
